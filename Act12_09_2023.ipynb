{
  "nbformat": 4,
  "nbformat_minor": 0,
  "metadata": {
    "colab": {
      "provenance": [],
      "authorship_tag": "ABX9TyMBfpMj/YN8DAhc2dzogSjh",
      "include_colab_link": true
    },
    "kernelspec": {
      "name": "python3",
      "display_name": "Python 3"
    },
    "language_info": {
      "name": "python"
    }
  },
  "cells": [
    {
      "cell_type": "markdown",
      "metadata": {
        "id": "view-in-github",
        "colab_type": "text"
      },
      "source": [
        "<a href=\"https://colab.research.google.com/github/FuckJesusHernandez/FuckJesusHernandez/blob/main/Act12_09_2023.ipynb\" target=\"_parent\"><img src=\"https://colab.research.google.com/assets/colab-badge.svg\" alt=\"Open In Colab\"/></a>"
      ]
    },
    {
      "cell_type": "code",
      "execution_count": 1,
      "metadata": {
        "colab": {
          "base_uri": "https://localhost:8080/"
        },
        "id": "B1raAas-CYwW",
        "outputId": "11fae844-bd3d-4ee1-9420-d7f3779b7d03"
      },
      "outputs": [
        {
          "output_type": "stream",
          "name": "stdout",
          "text": [
            "9 => 5 => 8 => "
          ]
        }
      ],
      "source": [
        "\n",
        "class node:\n",
        "    def __init__(self, data = None, next = None):\n",
        "        self.data = data\n",
        "        self.next = next\n",
        "\n",
        "\n",
        "class linked_list:\n",
        "    def __init__(self):\n",
        "        self.head = None\n",
        "\n",
        "    def add_at_front(self, data):\n",
        "        self.head = node(data=data, next=self.head)\n",
        "\n",
        "    def is_empty(self):\n",
        "        return self.head == None\n",
        "\n",
        "    def add_at_end(self, data):\n",
        "        if not self.head:\n",
        "            self.head = node(data=data)\n",
        "            return\n",
        "        curr = self.head\n",
        "        while curr.next:\n",
        "            curr = curr.next\n",
        "        curr.next = node(data=data)\n",
        "\n",
        "    def delete_node(self, key):\n",
        "        curr = self.head\n",
        "        prev = None\n",
        "        while curr and curr.data != key:\n",
        "            prev = curr\n",
        "            curr = curr.next\n",
        "        if prev is None:\n",
        "            self.head = curr.next\n",
        "        elif curr:\n",
        "            prev.next = curr.next\n",
        "            curr.next = None\n",
        "\n",
        "    def get_last_node(self):\n",
        "        temp = self.head\n",
        "        while(temp.next is not None):\n",
        "            temp = temp.next\n",
        "        return temp.data\n",
        "\n",
        "\n",
        "    def print_list( self ):\n",
        "        node = self.head\n",
        "        while node != None:\n",
        "            print(node.data, end =\" => \")\n",
        "            node = node.next\n",
        "\n",
        "\n",
        "s = linked_list()\n",
        "s.add_at_front(5)\n",
        "s.add_at_end(8)\n",
        "s.add_at_front(9)\n",
        "\n",
        "s.print_list()"
      ]
    }
  ]
}