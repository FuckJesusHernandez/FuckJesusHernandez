{
  "nbformat": 4,
  "nbformat_minor": 0,
  "metadata": {
    "colab": {
      "provenance": [],
      "authorship_tag": "ABX9TyMsUp4nDEJ4bbRsGwHp42VI",
      "include_colab_link": true
    },
    "kernelspec": {
      "name": "python3",
      "display_name": "Python 3"
    },
    "language_info": {
      "name": "python"
    }
  },
  "cells": [
    {
      "cell_type": "markdown",
      "metadata": {
        "id": "view-in-github",
        "colab_type": "text"
      },
      "source": [
        "<a href=\"https://colab.research.google.com/github/FuckJesusHernandez/FuckJesusHernandez/blob/main/Act12_09_2023.ipynb\" target=\"_parent\"><img src=\"https://colab.research.google.com/assets/colab-badge.svg\" alt=\"Open In Colab\"/></a>"
      ]
    },
    {
      "cell_type": "code",
      "execution_count": 9,
      "metadata": {
        "colab": {
          "base_uri": "https://localhost:8080/"
        },
        "id": "B1raAas-CYwW",
        "outputId": "c3d4e42a-fa75-4fcf-d98e-d5f3b0122f6e"
      },
      "outputs": [
        {
          "output_type": "stream",
          "name": "stdout",
          "text": [
            "Hola > Como > Vas? > "
          ]
        }
      ],
      "source": [
        "\n",
        "class node:\n",
        "    def __init__(self, data = None, next = None):\n",
        "        self.data = data\n",
        "        self.next = next\n",
        "\n",
        "\n",
        "class linked_list:\n",
        "    def __init__(self):\n",
        "        self.head = None\n",
        "\n",
        "    def add_at_front(self, data):\n",
        "        self.head = node(data=data, next=self.head)\n",
        "\n",
        "    def is_empty(self):\n",
        "        return self.head == None\n",
        "\n",
        "    def add_at_end(self, data):\n",
        "        if not self.head:\n",
        "            self.head = node(data=data)\n",
        "            return\n",
        "        curr = self.head\n",
        "        while curr.next:\n",
        "            curr = curr.next\n",
        "        curr.next = node(data=data)\n",
        "\n",
        "    def delete_node(self, key):\n",
        "        curr = self.head\n",
        "        prev = None\n",
        "        while curr and curr.data != key:\n",
        "            prev = curr\n",
        "            curr = curr.next\n",
        "        if prev is None:\n",
        "            self.head = curr.next\n",
        "        elif curr:\n",
        "            prev.next = curr.next\n",
        "            curr.next = None\n",
        "\n",
        "    def get_last_node(self):\n",
        "        temp = self.head\n",
        "        while(temp.next is not None):\n",
        "            temp = temp.next\n",
        "        return temp.data\n",
        "\n",
        "\n",
        "    def print_list( self ):\n",
        "        node = self.head\n",
        "        while node != None:\n",
        "            print(node.data, end =\" > \")\n",
        "            node = node.next\n",
        "\n",
        "\n",
        "s = linked_list()\n",
        "s.add_at_front(\"Como\")\n",
        "s.add_at_end(\"Vas?\")\n",
        "s.add_at_front(\"Hola\")\n",
        "\n",
        "s.print_list()"
      ]
    },
    {
      "cell_type": "code",
      "source": [],
      "metadata": {
        "id": "-6M2UbIBLyxe"
      },
      "execution_count": null,
      "outputs": []
    }
  ]
}