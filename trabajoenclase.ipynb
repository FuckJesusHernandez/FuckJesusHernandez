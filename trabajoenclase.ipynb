{
  "nbformat": 4,
  "nbformat_minor": 0,
  "metadata": {
    "colab": {
      "provenance": [],
      "authorship_tag": "ABX9TyNfSNurYCJbfqUoMUowaTih",
      "include_colab_link": true
    },
    "kernelspec": {
      "name": "python3",
      "display_name": "Python 3"
    },
    "language_info": {
      "name": "python"
    }
  },
  "cells": [
    {
      "cell_type": "markdown",
      "metadata": {
        "id": "view-in-github",
        "colab_type": "text"
      },
      "source": [
        "<a href=\"https://colab.research.google.com/github/FuckJesusHernandez/FuckJesusHernandez/blob/main/trabajoenclase.ipynb\" target=\"_parent\"><img src=\"https://colab.research.google.com/assets/colab-badge.svg\" alt=\"Open In Colab\"/></a>"
      ]
    },
    {
      "cell_type": "code",
      "execution_count": null,
      "metadata": {
        "colab": {
          "base_uri": "https://localhost:8080/"
        },
        "id": "OqWHocPyQ13R",
        "outputId": "10e27035-476c-4b2f-8119-9b1cea98061d"
      },
      "outputs": [
        {
          "output_type": "execute_result",
          "data": {
            "text/plain": [
              "['pan', 'huevos', 100, 1234]"
            ]
          },
          "metadata": {},
          "execution_count": 26
        }
      ],
      "source": [
        "  factura = ['pan', 'huevos', 100, 1234]\n",
        "\n",
        "  factura\n",
        "['pan', 'huevos', 100, 1234]\n"
      ]
    },
    {
      "cell_type": "code",
      "source": [
        "versiones_plone = [2.5, 3.6, 4, 5]\n",
        "print (versiones_plone)\n",
        "[2.5, 3.6, 4, 5, 6]\n",
        "versiones_plone.append(6)\n",
        "print (versiones_plone)\n",
        "[2.5, 3.6, 4, 5, 6]"
      ],
      "metadata": {
        "colab": {
          "base_uri": "https://localhost:8080/"
        },
        "id": "CdPK8gMDUne9",
        "outputId": "38d547b8-db81-4221-a7d8-66920a05f426"
      },
      "execution_count": null,
      "outputs": [
        {
          "output_type": "stream",
          "name": "stdout",
          "text": [
            "[2.5, 3.6, 4, 5]\n",
            "[2.5, 3.6, 4, 5, 6]\n"
          ]
        },
        {
          "output_type": "execute_result",
          "data": {
            "text/plain": [
              "[2.5, 3.6, 4, 5, 6]"
            ]
          },
          "metadata": {},
          "execution_count": 22
        }
      ]
    },
    {
      "cell_type": "code",
      "source": [
        "versiones_plone = [2.1, 2.5, 3.6]\n",
        "print(versiones_plone)\n",
        "[2.1, 2.5, 3.6]\n",
        "versiones_plone.extend([4])\n",
        "print(versiones_plone)\n",
        "[2.1, 2.5, 3.6, 4]\n",
        "versiones_plone.extend(range(4,12))\n",
        "print(versiones_plone)\n",
        "[2.1, 2.5, 3.6, 4, 5, 6]"
      ],
      "metadata": {
        "colab": {
          "base_uri": "https://localhost:8080/"
        },
        "id": "sfl5fJg3Ytrn",
        "outputId": "2f76076f-bcbb-4277-aa0a-962955f403b3"
      },
      "execution_count": 29,
      "outputs": [
        {
          "output_type": "stream",
          "name": "stdout",
          "text": [
            "[2.1, 2.5, 3.6]\n",
            "[2.1, 2.5, 3.6, 4]\n",
            "[2.1, 2.5, 3.6, 4, 4, 5, 6, 7, 8, 9, 10, 11]\n"
          ]
        },
        {
          "output_type": "execute_result",
          "data": {
            "text/plain": [
              "[2.1, 2.5, 3.6, 4, 5, 6]"
            ]
          },
          "metadata": {},
          "execution_count": 29
        }
      ]
    }
  ]
}