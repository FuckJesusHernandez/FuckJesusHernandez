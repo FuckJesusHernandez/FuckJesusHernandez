{
  "nbformat": 4,
  "nbformat_minor": 0,
  "metadata": {
    "colab": {
      "provenance": [],
      "authorship_tag": "ABX9TyNCmAMq4qFwHJyP8A8dRUg0",
      "include_colab_link": true
    },
    "kernelspec": {
      "name": "python3",
      "display_name": "Python 3"
    },
    "language_info": {
      "name": "python"
    }
  },
  "cells": [
    {
      "cell_type": "markdown",
      "metadata": {
        "id": "view-in-github",
        "colab_type": "text"
      },
      "source": [
        "<a href=\"https://colab.research.google.com/github/FuckJesusHernandez/FuckJesusHernandez/blob/main/Clase_17_10_2023.ipynb\" target=\"_parent\"><img src=\"https://colab.research.google.com/assets/colab-badge.svg\" alt=\"Open In Colab\"/></a>"
      ]
    },
    {
      "cell_type": "code",
      "execution_count": 8,
      "metadata": {
        "colab": {
          "base_uri": "https://localhost:8080/"
        },
        "id": "oEF2QoEeP6qk",
        "outputId": "547c0ec6-4ef1-44ab-da7f-4f967936956c"
      },
      "outputs": [
        {
          "output_type": "stream",
          "name": "stdout",
          "text": [
            "Izquierda\n"
          ]
        }
      ],
      "source": [
        "class Arbol(object):\n",
        "  def __init__(self):\n",
        "    self.der = None\n",
        "    self.izq = None\n",
        "    self.dato = None\n",
        "\n",
        "raiz = Arbol()\n",
        "raiz.dato = 'Raiz'\n",
        "raiz.izq = Arbol ()\n",
        "raiz.izq.dato = 'Izquierda'\n",
        "raiz.der = Arbol ()\n",
        "raiz.der.dato = 'Derecha'\n",
        "\n",
        "print(raiz.izq.dato)\n",
        "\n",
        "\n",
        ""
      ]
    },
    {
      "cell_type": "code",
      "source": [
        "class Arbol(object):\n",
        "  def __init__(self):\n",
        "    self.der = None\n",
        "    self.izq = None\n",
        "    self.dato = None\n",
        "\n",
        "raiz = Arbol()\n",
        "raiz.dato = 'Raiz'\n",
        "raiz.izq = Arbol ()\n",
        "raiz.izq.dato = 'Izquierda'\n",
        "raiz.der = Arbol ()\n",
        "raiz.der.dato = 'Derecha'\n",
        "\n",
        "raiz.izq.izq = Arbol()\n",
        "raiz.izq.izq.dato = 'Izquierda'\n",
        "raiz.izq.der = Arbol()\n",
        "raiz.izq.der.dato = 'Izquierda - Derecha'\n",
        "\n",
        "print(raiz.izq.dato)"
      ],
      "metadata": {
        "colab": {
          "base_uri": "https://localhost:8080/"
        },
        "id": "EMMW8uXcWj5s",
        "outputId": "c24b83a7-8146-4303-8f1f-7bbc76b438c4"
      },
      "execution_count": 9,
      "outputs": [
        {
          "output_type": "stream",
          "name": "stdout",
          "text": [
            "Izquierda\n"
          ]
        }
      ]
    },
    {
      "cell_type": "code",
      "source": [
        "class Arbol(object):\n",
        "  def __init__(self):\n",
        "    self.der = None\n",
        "    self.der2 = None\n",
        "    self.cent = None\n",
        "    self.izq = None\n",
        "    self.izq2 = None\n",
        "    self.dato = None"
      ],
      "metadata": {
        "id": "91awzVocWCIe"
      },
      "execution_count": null,
      "outputs": []
    },
    {
      "cell_type": "code",
      "source": [
        "def preorder(node):\n",
        "  if node:\n",
        "    print(node.data)\n",
        "    preorder(node.left)\n",
        "    preorder(node.right)"
      ],
      "metadata": {
        "id": "2vdsoiXAYSMJ"
      },
      "execution_count": 10,
      "outputs": []
    },
    {
      "cell_type": "code",
      "source": [
        "def inorder(node):\n",
        "  if node:\n",
        "    inorder(node.left)\n",
        "    print(node.data)\n",
        "    inorder(node.right)\n"
      ],
      "metadata": {
        "id": "PWRahS0YaBAk"
      },
      "execution_count": 11,
      "outputs": []
    },
    {
      "cell_type": "code",
      "source": [
        "def postorder(node):\n",
        "  if node:\n",
        "    print(node.data)\n",
        "    postorder(node.left)\n",
        "    postorder(node.right)\n",
        "\n"
      ],
      "metadata": {
        "id": "3TBfvfGAaVIt"
      },
      "execution_count": 13,
      "outputs": []
    }
  ]
}