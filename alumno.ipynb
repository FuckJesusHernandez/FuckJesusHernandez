{
  "nbformat": 4,
  "nbformat_minor": 0,
  "metadata": {
    "colab": {
      "provenance": [],
      "authorship_tag": "ABX9TyO6qqzM6JkiXYNrCDmQgWzG",
      "include_colab_link": true
    },
    "kernelspec": {
      "name": "python3",
      "display_name": "Python 3"
    },
    "language_info": {
      "name": "python"
    }
  },
  "cells": [
    {
      "cell_type": "markdown",
      "metadata": {
        "id": "view-in-github",
        "colab_type": "text"
      },
      "source": [
        "<a href=\"https://colab.research.google.com/github/FuckJesusHernandez/FuckJesusHernandez/blob/main/alumno.ipynb\" target=\"_parent\"><img src=\"https://colab.research.google.com/assets/colab-badge.svg\" alt=\"Open In Colab\"/></a>"
      ]
    },
    {
      "cell_type": "code",
      "execution_count": null,
      "metadata": {
        "id": "TEs24GShRZI1"
      },
      "outputs": [],
      "source": [
        "comidas=['Hamburguesas', 'Tortas', 'Pizzas', 'Ensaladas', 'Sandwich']\n",
        "bebidas=['Cafe', 'Refresco', 'Agua', 'Malteadas', 'Te']\n",
        "alumnos=[0]\n",
        "\n",
        "\n",
        "while True:\n",
        "    print('Bienvendo a la Cafeteria')\n",
        "    print('1.Agregar Alumno')\n",
        "    print('2.Agregar Pedido')\n",
        "    print('3.Imprimir todo')\n",
        "    print('4.Salir del progranma')\n",
        "\n",
        "    opcion = input(\"Seleccione una opcion: \")\n",
        "\n",
        "    if opcion == \"1\":\n",
        "        alumnos.append(input(\"Agrega alumno:\"))\n",
        "        print(\"Alumno agregado exitosamente\")\n",
        "\n",
        "    elif opcion==\"2\":"
      ]
    }
  ]
}