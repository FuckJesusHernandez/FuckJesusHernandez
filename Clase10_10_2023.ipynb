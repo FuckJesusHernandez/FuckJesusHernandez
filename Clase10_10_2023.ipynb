{
  "nbformat": 4,
  "nbformat_minor": 0,
  "metadata": {
    "colab": {
      "provenance": [],
      "authorship_tag": "ABX9TyO5w3BrMP8ssIeaZ29p/PPD",
      "include_colab_link": true
    },
    "kernelspec": {
      "name": "python3",
      "display_name": "Python 3"
    },
    "language_info": {
      "name": "python"
    }
  },
  "cells": [
    {
      "cell_type": "markdown",
      "metadata": {
        "id": "view-in-github",
        "colab_type": "text"
      },
      "source": [
        "<a href=\"https://colab.research.google.com/github/FuckJesusHernandez/FuckJesusHernandez/blob/main/Clase10_10_2023.ipynb\" target=\"_parent\"><img src=\"https://colab.research.google.com/assets/colab-badge.svg\" alt=\"Open In Colab\"/></a>"
      ]
    },
    {
      "cell_type": "code",
      "execution_count": 3,
      "metadata": {
        "id": "A65ID7YqXH2n"
      },
      "outputs": [],
      "source": [
        "class Node:\n",
        "    def __init__(self, data):\n",
        "        self.left = None\n",
        "        self.right = None\n",
        "        self.data = data\n",
        "\n",
        "def construct_tree():\n",
        "    root = Node(10)\n",
        "    root.left = Node(34)\n",
        "    root.right = Node(89)\n",
        "    root.left.left = Node(45)\n",
        "    root.left.right = Node(50)\n",
        "\n",
        "    return root\n",
        "\n",
        "\n",
        "tree_root = construct_tree()\n",
        "\n"
      ]
    },
    {
      "cell_type": "code",
      "source": [
        "def preorder(node):\n",
        "  if node:\n",
        "        print(node.data)\n",
        "        preorder(node.left)\n",
        "        preorder(node.right)"
      ],
      "metadata": {
        "id": "Sr4MEOXqa6FR"
      },
      "execution_count": 4,
      "outputs": []
    },
    {
      "cell_type": "code",
      "source": [
        "def inorder(node):\n",
        "    if node:\n",
        "           inorder(node.left)\n",
        "           print(node.data)\n",
        "           inorder(node.right)"
      ],
      "metadata": {
        "id": "CJPpaQG-a6Xo"
      },
      "execution_count": null,
      "outputs": []
    },
    {
      "cell_type": "code",
      "source": [
        "def postorder(node):\n",
        "     if node:\n",
        "           postorder(node.left)\n",
        "           postorder(node.right)\n",
        "\n",
        "print(node.data)"
      ],
      "metadata": {
        "id": "YJrsqKk7a6iJ"
      },
      "execution_count": null,
      "outputs": []
    },
    {
      "cell_type": "code",
      "source": [],
      "metadata": {
        "id": "6o7O5qXZa6uV"
      },
      "execution_count": null,
      "outputs": []
    }
  ]
}