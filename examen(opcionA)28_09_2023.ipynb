{
  "nbformat": 4,
  "nbformat_minor": 0,
  "metadata": {
    "colab": {
      "provenance": [],
      "authorship_tag": "ABX9TyP14nI3bvgBjSPxFCS3xF1x",
      "include_colab_link": true
    },
    "kernelspec": {
      "name": "python3",
      "display_name": "Python 3"
    },
    "language_info": {
      "name": "python"
    }
  },
  "cells": [
    {
      "cell_type": "markdown",
      "metadata": {
        "id": "view-in-github",
        "colab_type": "text"
      },
      "source": [
        "<a href=\"https://colab.research.google.com/github/FuckJesusHernandez/FuckJesusHernandez/blob/main/examen(opcionA)28_09_2023.ipynb\" target=\"_parent\"><img src=\"https://colab.research.google.com/assets/colab-badge.svg\" alt=\"Open In Colab\"/></a>"
      ]
    },
    {
      "cell_type": "code",
      "execution_count": null,
      "metadata": {
        "colab": {
          "base_uri": "https://localhost:8080/"
        },
        "id": "fIoJe7PIe_IE",
        "outputId": "210e64ec-4b35-4f7e-994c-1c87b7dfd5a3"
      },
      "outputs": [
        {
          "output_type": "stream",
          "name": "stdout",
          "text": [
            "Pila 1: [1, 2, 3, 4, 5, 6, 7, 8, 9, 10, 11, 12]\n",
            "Pila 2: [12, 11, 10, 9, 8, 7, 6, 5, 4, 3, 2, 1]\n",
            "Pila 3: [1, 11, 9, 7, 5, 3, 4, 6, 8, 10, 12, 2]\n"
          ]
        }
      ],
      "source": [
        "def llenar_pilas(pila1, pila2, pila3, n):\n",
        "    if n == 0:\n",
        "        return\n",
        "\n",
        "\n",
        "    pila1.insert(0, n)\n",
        "\n",
        "\n",
        "    pila2.append(n)\n",
        "\n",
        "\n",
        "\n",
        "    if n % 12 == 2:\n",
        "        pila3.append(n)\n",
        "    elif n % 12 == 1:\n",
        "        pila3.insert(0, n)\n",
        "    else:\n",
        "        pila3.insert(len(pila3) // 2, n)\n",
        "\n",
        "    llenar_pilas(pila1, pila2, pila3, n - 1)\n",
        "\n",
        "\n",
        "pila1 = []\n",
        "pila2 = []\n",
        "pila3 = []\n",
        "\n",
        "\n",
        "llenar_pilas(pila1, pila2, pila3, 12)\n",
        "\n",
        "\n",
        "print(\"Pila 1:\", pila1)\n",
        "print(\"Pila 2:\", pila2)\n",
        "print(\"Pila 3:\", pila3)\n"
      ]
    }
  ]
}