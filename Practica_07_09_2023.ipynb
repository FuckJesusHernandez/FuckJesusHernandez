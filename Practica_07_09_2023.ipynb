{
  "nbformat": 4,
  "nbformat_minor": 0,
  "metadata": {
    "colab": {
      "provenance": [],
      "authorship_tag": "ABX9TyOnStpG15mUUQ9c0WQKU5wK",
      "include_colab_link": true
    },
    "kernelspec": {
      "name": "python3",
      "display_name": "Python 3"
    },
    "language_info": {
      "name": "python"
    }
  },
  "cells": [
    {
      "cell_type": "markdown",
      "metadata": {
        "id": "view-in-github",
        "colab_type": "text"
      },
      "source": [
        "<a href=\"https://colab.research.google.com/github/FuckJesusHernandez/FuckJesusHernandez/blob/main/Practica_07_09_2023.ipynb\" target=\"_parent\"><img src=\"https://colab.research.google.com/assets/colab-badge.svg\" alt=\"Open In Colab\"/></a>"
      ]
    },
    {
      "cell_type": "code",
      "execution_count": 29,
      "metadata": {
        "colab": {
          "base_uri": "https://localhost:8080/"
        },
        "id": "Bkw0yxWIQ8ZP",
        "outputId": "e5808b4d-c092-4e47-ddac-39b763a0375b"
      },
      "outputs": [
        {
          "name": "stdout",
          "output_type": "stream",
          "text": [
            "1. Apilar\n",
            "2. Desapilar\n",
            "3. Verificar si la pila está vacía\n",
            "4. Salir\n",
            "Ingrese una opción: 1\n",
            "Ingrese el elemento a apilar: 5\n",
            "1. Apilar\n",
            "2. Desapilar\n",
            "3. Verificar si la pila está vacía\n",
            "4. Salir\n",
            "Ingrese una opción: 2\n",
            "Elemento desapilado: 5\n",
            "1. Apilar\n",
            "2. Desapilar\n",
            "3. Verificar si la pila está vacía\n",
            "4. Salir\n",
            "Ingrese una opción: 3\n",
            "La pila está vacía.\n",
            "1. Apilar\n",
            "2. Desapilar\n",
            "3. Verificar si la pila está vacía\n",
            "4. Salir\n",
            "Ingrese una opción: 4\n"
          ]
        }
      ],
      "source": [
        "\n",
        "class Pila:\n",
        "    def __init__(self):\n",
        "        self.items = []\n",
        "\n",
        "    def apilar(self, x):\n",
        "        self.items.append(x)\n",
        "\n",
        "    def desapilar(self):\n",
        "        try:\n",
        "            return self.items.pop()\n",
        "        except IndexError:\n",
        "            raise ValueError(\"La pila está vacía\")\n",
        "\n",
        "    def es_vacia(self):\n",
        "        return self.items == []\n",
        "\n",
        "def menu():\n",
        "    p = Pila()\n",
        "    while True:\n",
        "        print(\"1. Apilar\")\n",
        "        print(\"2. Desapilar\")\n",
        "        print(\"3. Verificar si la pila está vacía\")\n",
        "        print(\"4. Salir\")\n",
        "\n",
        "        opcion = input(\"Ingrese una opción: \")\n",
        "\n",
        "        if opcion == \"1\":\n",
        "            elemento = input(\"Ingrese el elemento a apilar: \")\n",
        "            p.apilar(elemento)\n",
        "        elif opcion == \"2\":\n",
        "            if not p.es_vacia():\n",
        "                elemento_desapilado = p.desapilar()\n",
        "                print(f\"Elemento desapilado: {elemento_desapilado}\")\n",
        "            else:\n",
        "                print(\"La pila está vacía.\")\n",
        "        elif opcion == \"3\":\n",
        "            if p.es_vacia():\n",
        "                print(\"La pila está vacía.\")\n",
        "            else:\n",
        "                print(\"La pila no está vacía.\")\n",
        "        elif opcion == \"4\":\n",
        "            break\n",
        "        else:\n",
        "            print(\"Opción no válida. Por favor, seleccione una opción válida.\")\n",
        "\n",
        "if __name__ == \"__main__\":\n",
        "    menu()\n"
      ]
    },
    {
      "cell_type": "code",
      "source": [
        "class Pila:\n",
        "    def _init_(self):\n",
        "        self.items = []\n",
        "\n",
        "    def apilar(self, elemento):\n",
        "        self.items.append(elemento)\n",
        "\n",
        "    def desapilar(self):\n",
        "        if not self.esPilaVacia():\n",
        "            return self.items.pop()\n",
        "        else:\n",
        "            raise ValueError(\"La pila está vacía\")\n",
        "\n",
        "    def esPilaVacia(self):\n",
        "        return len(self.items) == 0\n",
        "\n",
        "def calculadora_polaca(elementos):\n",
        "    p = Pila()\n",
        "\n",
        "    for elemento in elementos:\n",
        "        print(\"DEBUG:\", elemento)\n",
        "\n",
        "        try:\n",
        "            numero = float(elemento)\n",
        "            p.apilar(numero)\n",
        "            print(\"DEBUG: apila\", numero)\n",
        "\n",
        "        except ValueError:\n",
        "            if elemento not in \"+-*/%\" or len(elemento) != 1:\n",
        "                raise ValueError(\"Operando inválido\")\n",
        "\n",
        "            try:\n",
        "                a1 = p.desapilar()\n",
        "                print(\"DEBUG: desapila\", a1)\n",
        "                a2 = p.desapilar()\n",
        "                print(\"DEBUG: desapila\", a2)\n",
        "\n",
        "            except ValueError:\n",
        "                print(\"DEBUG: error pila faltan operandos\")\n",
        "                raise ValueError(\"Faltan operandos\")\n",
        "\n",
        "            if elemento == \"+\":\n",
        "                resultado = a2 + a1\n",
        "            elif elemento == \"-\":\n",
        "                resultado = a2 - a1\n",
        "            elif elemento == \"*\":\n",
        "                resultado = a2 * a1\n",
        "            elif elemento == \"/\":\n",
        "                resultado = a2 / a1\n",
        "            elif elemento == \"%\":\n",
        "                resultado = a2 % a1\n",
        "\n",
        "            print(\"DEBUG: apila\", resultado)\n",
        "            p.apilar(resultado)\n",
        "\n",
        "    res = p.desapilar()\n",
        "\n",
        "    if p.esPilaVacia():\n",
        "        return res\n",
        "    else:\n",
        "        print(\"DEBUG: error pila sobran operandos\")\n",
        "        raise ValueError(\"Sobran operandos\")\n",
        "\n",
        "def main():\n",
        "    expresion = input(\"Ingrese la expresión a evaluar: \")\n",
        "    elementos = expresion.split()\n",
        "\n",
        "    try:\n",
        "        resultado = calculadora_polaca(elementos)\n",
        "        print(\"Resultado:\", resultado)\n",
        "    except ValueError as e:\n",
        "        print(\"Error:\", e)\n",
        "\n",
        "if _name_ == \"__main__\":\n",
        "    main()"
      ],
      "metadata": {
        "colab": {
          "base_uri": "https://localhost:8080/",
          "height": 227
        },
        "id": "0qIwWWcWZnjM",
        "outputId": "bd0a219c-6ba7-4b78-b27e-387575d2cc42"
      },
      "execution_count": 30,
      "outputs": [
        {
          "output_type": "error",
          "ename": "NameError",
          "evalue": "ignored",
          "traceback": [
            "\u001b[0;31m---------------------------------------------------------------------------\u001b[0m",
            "\u001b[0;31mNameError\u001b[0m                                 Traceback (most recent call last)",
            "\u001b[0;32m<ipython-input-30-a54507523df4>\u001b[0m in \u001b[0;36m<cell line: 74>\u001b[0;34m()\u001b[0m\n\u001b[1;32m     72\u001b[0m         \u001b[0mprint\u001b[0m\u001b[0;34m(\u001b[0m\u001b[0;34m\"Error:\"\u001b[0m\u001b[0;34m,\u001b[0m \u001b[0me\u001b[0m\u001b[0;34m)\u001b[0m\u001b[0;34m\u001b[0m\u001b[0;34m\u001b[0m\u001b[0m\n\u001b[1;32m     73\u001b[0m \u001b[0;34m\u001b[0m\u001b[0m\n\u001b[0;32m---> 74\u001b[0;31m \u001b[0;32mif\u001b[0m \u001b[0m_name_\u001b[0m \u001b[0;34m==\u001b[0m \u001b[0;34m\"__main__\"\u001b[0m\u001b[0;34m:\u001b[0m\u001b[0;34m\u001b[0m\u001b[0;34m\u001b[0m\u001b[0m\n\u001b[0m\u001b[1;32m     75\u001b[0m     \u001b[0mmain\u001b[0m\u001b[0;34m(\u001b[0m\u001b[0;34m)\u001b[0m\u001b[0;34m\u001b[0m\u001b[0;34m\u001b[0m\u001b[0m\n",
            "\u001b[0;31mNameError\u001b[0m: name '_name_' is not defined"
          ]
        }
      ]
    }
  ]
}