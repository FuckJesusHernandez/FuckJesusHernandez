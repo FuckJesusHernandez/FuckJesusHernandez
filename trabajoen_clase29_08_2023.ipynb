{
  "nbformat": 4,
  "nbformat_minor": 0,
  "metadata": {
    "colab": {
      "provenance": [],
      "authorship_tag": "ABX9TyM491ajEmovPYxgVbj9D5l1",
      "include_colab_link": true
    },
    "kernelspec": {
      "name": "python3",
      "display_name": "Python 3"
    },
    "language_info": {
      "name": "python"
    }
  },
  "cells": [
    {
      "cell_type": "markdown",
      "metadata": {
        "id": "view-in-github",
        "colab_type": "text"
      },
      "source": [
        "<a href=\"https://colab.research.google.com/github/FuckJesusHernandez/FuckJesusHernandez/blob/main/trabajoen_clase29_08_2023.ipynb\" target=\"_parent\"><img src=\"https://colab.research.google.com/assets/colab-badge.svg\" alt=\"Open In Colab\"/></a>"
      ]
    },
    {
      "cell_type": "code",
      "execution_count": 1,
      "metadata": {
        "colab": {
          "base_uri": "https://localhost:8080/"
        },
        "id": "eErI5Sdy6xWm",
        "outputId": "663d4821-24cd-416d-da40-ff446f0e56c2"
      },
      "outputs": [
        {
          "output_type": "execute_result",
          "data": {
            "text/plain": [
              "3.6"
            ]
          },
          "metadata": {},
          "execution_count": 1
        }
      ],
      "source": [
        "versiones_plone = [2.1, 2.5, 3.6, 4, 5, 6, 4]\n",
        "versiones_plone[2]"
      ]
    },
    {
      "cell_type": "code",
      "source": [
        "print (versiones_plone.index(4,2))"
      ],
      "metadata": {
        "colab": {
          "base_uri": "https://localhost:8080/"
        },
        "id": "Rw6ZtD9p61cc",
        "outputId": "d961fa51-5683-4cbc-d5ca-eaa659399e3d"
      },
      "execution_count": 2,
      "outputs": [
        {
          "output_type": "stream",
          "name": "stdout",
          "text": [
            "3\n"
          ]
        }
      ]
    },
    {
      "cell_type": "code",
      "source": [
        "versiones_plone[3]"
      ],
      "metadata": {
        "colab": {
          "base_uri": "https://localhost:8080/"
        },
        "id": "4lEunyKp64TD",
        "outputId": "d66d67a3-19c4-473e-8cab-9f89b243ed92"
      },
      "execution_count": 3,
      "outputs": [
        {
          "output_type": "execute_result",
          "data": {
            "text/plain": [
              "4"
            ]
          },
          "metadata": {},
          "execution_count": 3
        }
      ]
    },
    {
      "cell_type": "code",
      "source": [
        "print(versiones_plone.index(4, 5))"
      ],
      "metadata": {
        "colab": {
          "base_uri": "https://localhost:8080/"
        },
        "id": "lG9_tqVc67Qt",
        "outputId": "aef2d4ef-7490-47f2-9b47-b327b736cedd"
      },
      "execution_count": 4,
      "outputs": [
        {
          "output_type": "stream",
          "name": "stdout",
          "text": [
            "6\n"
          ]
        }
      ]
    },
    {
      "cell_type": "code",
      "source": [
        "print(versiones_plone.index(6, 2))"
      ],
      "metadata": {
        "colab": {
          "base_uri": "https://localhost:8080/"
        },
        "id": "pd_SQBkB7KSS",
        "outputId": "8faa05d2-e968-4f62-c317-7a9c0dc6691e"
      },
      "execution_count": 5,
      "outputs": [
        {
          "output_type": "stream",
          "name": "stdout",
          "text": [
            "5\n"
          ]
        }
      ]
    },
    {
      "cell_type": "code",
      "source": [
        "print(versiones_plone.index(4, 6))"
      ],
      "metadata": {
        "colab": {
          "base_uri": "https://localhost:8080/"
        },
        "id": "bz-mythB7P3Y",
        "outputId": "7d876e4c-f5fa-4d2f-e801-e532436b09b0"
      },
      "execution_count": 6,
      "outputs": [
        {
          "output_type": "stream",
          "name": "stdout",
          "text": [
            "6\n"
          ]
        }
      ]
    },
    {
      "cell_type": "code",
      "source": [
        "print(versiones_plone.index(6, 1))\n"
      ],
      "metadata": {
        "colab": {
          "base_uri": "https://localhost:8080/"
        },
        "id": "nxz7Z-XQ7ZCu",
        "outputId": "576ea079-5881-4d9a-a2d9-2b834cd206a4"
      },
      "execution_count": 7,
      "outputs": [
        {
          "output_type": "stream",
          "name": "stdout",
          "text": [
            "5\n"
          ]
        }
      ]
    },
    {
      "cell_type": "code",
      "source": [
        "print(versiones_plone.index(3.6, 2))"
      ],
      "metadata": {
        "colab": {
          "base_uri": "https://localhost:8080/"
        },
        "id": "DQ0-o9PT7dFA",
        "outputId": "d43d149d-cecb-41b7-f95a-66f91506ac17"
      },
      "execution_count": 8,
      "outputs": [
        {
          "output_type": "stream",
          "name": "stdout",
          "text": [
            "2\n"
          ]
        }
      ]
    },
    {
      "cell_type": "code",
      "source": [
        "versiones_plone = [2.1, 2.5, 3.6, 4, 5, 6, 4]\n",
        "print(versiones_plone.index(9))\n"
      ],
      "metadata": {
        "colab": {
          "base_uri": "https://localhost:8080/",
          "height": 193
        },
        "id": "x0UnBeZw7wqf",
        "outputId": "6e2a95b2-d009-49f9-faaf-bbd94cdfe5af"
      },
      "execution_count": 10,
      "outputs": [
        {
          "output_type": "error",
          "ename": "ValueError",
          "evalue": "ignored",
          "traceback": [
            "\u001b[0;31m---------------------------------------------------------------------------\u001b[0m",
            "\u001b[0;31mValueError\u001b[0m                                Traceback (most recent call last)",
            "\u001b[0;32m<ipython-input-10-040d9cdf0e71>\u001b[0m in \u001b[0;36m<cell line: 2>\u001b[0;34m()\u001b[0m\n\u001b[1;32m      1\u001b[0m \u001b[0mversiones_plone\u001b[0m \u001b[0;34m=\u001b[0m \u001b[0;34m[\u001b[0m\u001b[0;36m2.1\u001b[0m\u001b[0;34m,\u001b[0m \u001b[0;36m2.5\u001b[0m\u001b[0;34m,\u001b[0m \u001b[0;36m3.6\u001b[0m\u001b[0;34m,\u001b[0m \u001b[0;36m4\u001b[0m\u001b[0;34m,\u001b[0m \u001b[0;36m5\u001b[0m\u001b[0;34m,\u001b[0m \u001b[0;36m6\u001b[0m\u001b[0;34m,\u001b[0m \u001b[0;36m4\u001b[0m\u001b[0;34m]\u001b[0m\u001b[0;34m\u001b[0m\u001b[0;34m\u001b[0m\u001b[0m\n\u001b[0;32m----> 2\u001b[0;31m \u001b[0mprint\u001b[0m\u001b[0;34m(\u001b[0m\u001b[0mversiones_plone\u001b[0m\u001b[0;34m.\u001b[0m\u001b[0mindex\u001b[0m\u001b[0;34m(\u001b[0m\u001b[0;36m9\u001b[0m\u001b[0;34m)\u001b[0m\u001b[0;34m)\u001b[0m\u001b[0;34m\u001b[0m\u001b[0;34m\u001b[0m\u001b[0m\n\u001b[0m",
            "\u001b[0;31mValueError\u001b[0m: 9 is not in list"
          ]
        }
      ]
    },
    {
      "cell_type": "code",
      "source": [
        "versiones_plone = [2.1, 2.5, 3.6, 4, 5, 6]\n",
        "print(versiones_plone)"
      ],
      "metadata": {
        "colab": {
          "base_uri": "https://localhost:8080/"
        },
        "id": "ovwWVNmT9mpT",
        "outputId": "7d9adadc-136a-4769-9495-1fabb0445ef5"
      },
      "execution_count": 14,
      "outputs": [
        {
          "output_type": "stream",
          "name": "stdout",
          "text": [
            "[2.1, 2.5, 3.6, 4, 5, 6]\n"
          ]
        }
      ]
    },
    {
      "cell_type": "code",
      "source": [
        "versiones_plone.insert(2, 3.7)\n",
        "print(versiones_plone)"
      ],
      "metadata": {
        "colab": {
          "base_uri": "https://localhost:8080/"
        },
        "id": "fzPAZWUb8ZXg",
        "outputId": "2911a844-9623-49d9-ac43-c2e9c8c1aee0"
      },
      "execution_count": 12,
      "outputs": [
        {
          "output_type": "stream",
          "name": "stdout",
          "text": [
            "[2.1, 2.5, 3.7, 3.6, 4, 5, 6, 4]\n"
          ]
        }
      ]
    },
    {
      "cell_type": "code",
      "source": [
        "versiones_plone = [2.1, 2.5, 3.6, 4, 5, 6]\n",
        "print(versiones_plone.pop())\n"
      ],
      "metadata": {
        "colab": {
          "base_uri": "https://localhost:8080/"
        },
        "id": "Vn1i5kuP-6d2",
        "outputId": "737ddfc7-6410-4716-ba02-7ca8bc59947d"
      },
      "execution_count": 18,
      "outputs": [
        {
          "output_type": "stream",
          "name": "stdout",
          "text": [
            "6\n"
          ]
        }
      ]
    },
    {
      "cell_type": "code",
      "source": [
        "print(versiones_plone)"
      ],
      "metadata": {
        "colab": {
          "base_uri": "https://localhost:8080/"
        },
        "id": "8ZcDGq7X_H3R",
        "outputId": "1c462835-26f5-4821-dbb7-f7d908e1f5f5"
      },
      "execution_count": 19,
      "outputs": [
        {
          "output_type": "stream",
          "name": "stdout",
          "text": [
            "[2.1, 2.5, 3.6, 4, 5]\n"
          ]
        }
      ]
    },
    {
      "cell_type": "code",
      "source": [
        "versiones_plone = [2.1, 2.5, 3.6, 4, 5, 6]\n",
        "print(versiones_plone.pop(+1))"
      ],
      "metadata": {
        "colab": {
          "base_uri": "https://localhost:8080/"
        },
        "id": "TsttD9BAAQWk",
        "outputId": "ea34f624-c756-4baa-e696-35a14f55dd97"
      },
      "execution_count": 22,
      "outputs": [
        {
          "output_type": "stream",
          "name": "stdout",
          "text": [
            "2.5\n"
          ]
        }
      ]
    },
    {
      "cell_type": "code",
      "source": [
        "print(versiones_plone)"
      ],
      "metadata": {
        "colab": {
          "base_uri": "https://localhost:8080/"
        },
        "id": "ESSGU0z6AVlz",
        "outputId": "3572c982-dab5-4bac-cb85-246fffb3e330"
      },
      "execution_count": 21,
      "outputs": [
        {
          "output_type": "stream",
          "name": "stdout",
          "text": [
            "[2.1, 2.5, 4, 5, 6]\n"
          ]
        }
      ]
    },
    {
      "cell_type": "code",
      "source": [
        "versiones_plone = [2.1, 2.5, 3.6, 4, 5, 6]\n",
        "print(versiones_plone)\n",
        "versiones_plone.remove(2.5)\n",
        "print(versiones_plone)"
      ],
      "metadata": {
        "colab": {
          "base_uri": "https://localhost:8080/"
        },
        "id": "1kDeiA5LBDm8",
        "outputId": "035c8826-737b-4227-a292-3f81dcaf4076"
      },
      "execution_count": 25,
      "outputs": [
        {
          "output_type": "stream",
          "name": "stdout",
          "text": [
            "[2.1, 2.5, 3.6, 4, 5, 6]\n",
            "[2.1, 3.6, 4, 5, 6]\n"
          ]
        }
      ]
    },
    {
      "cell_type": "code",
      "source": [
        "versiones_plone = [2.1, 2.5, 3.6, 4, 5, 6]\n",
        "print(versiones_plone)\n",
        "versiones_plone.reverse()\n",
        "print(versiones_plone)"
      ],
      "metadata": {
        "colab": {
          "base_uri": "https://localhost:8080/"
        },
        "id": "pYdkwHbABeXF",
        "outputId": "a0e94728-496c-48e1-894c-5178968ff6b8"
      },
      "execution_count": 27,
      "outputs": [
        {
          "output_type": "stream",
          "name": "stdout",
          "text": [
            "[2.1, 2.5, 3.6, 4, 5, 6]\n",
            "[6, 5, 4, 3.6, 2.5, 2.1]\n"
          ]
        }
      ]
    },
    {
      "cell_type": "code",
      "source": [
        "versiones_plone = [4, 2.5, 5, 3.6, 2.1, 6]\n",
        "print(versiones_plone)\n",
        "versiones_plone.sort()\n",
        "print(versiones_plone)"
      ],
      "metadata": {
        "colab": {
          "base_uri": "https://localhost:8080/"
        },
        "id": "2vo2xadMCBfB",
        "outputId": "13d61726-adb2-4037-c549-8c86607216b9"
      },
      "execution_count": 29,
      "outputs": [
        {
          "output_type": "stream",
          "name": "stdout",
          "text": [
            "[4, 2.5, 5, 3.6, 2.1, 6]\n",
            "[2.1, 2.5, 3.6, 4, 5, 6]\n"
          ]
        }
      ]
    },
    {
      "cell_type": "code",
      "source": [
        "versiones_plone = [4, 2.5, 5, 3.6, 2.1, 6]\n",
        "print(versiones_plone)\n",
        "versiones_plone.sort()\n",
        "print(versiones_plone)\n",
        "versiones_plone.sort(reverse=True)\n",
        "print(versiones_plone)"
      ],
      "metadata": {
        "colab": {
          "base_uri": "https://localhost:8080/"
        },
        "id": "IbV-Q-4CCcXs",
        "outputId": "62f718e2-2e2f-44bb-f5bc-c41c25df1bec"
      },
      "execution_count": 30,
      "outputs": [
        {
          "output_type": "stream",
          "name": "stdout",
          "text": [
            "[4, 2.5, 5, 3.6, 2.1, 6]\n",
            "[2.1, 2.5, 3.6, 4, 5, 6]\n",
            "[6, 5, 4, 3.6, 2.5, 2.1]\n"
          ]
        }
      ]
    },
    {
      "cell_type": "code",
      "source": [
        "versiones_plone = ['a, b, c , d, e, f, g']\n",
        "print(versiones_plone)\n",
        "versiones_plone.sort()\n",
        "print(versiones_plone)\n",
        "versiones_plone.sort(reverse=True)\n",
        "print(versiones_plone)"
      ],
      "metadata": {
        "colab": {
          "base_uri": "https://localhost:8080/"
        },
        "id": "69hsoSd7DBFB",
        "outputId": "8a61bdda-1169-4b81-d88c-733427f11693"
      },
      "execution_count": 31,
      "outputs": [
        {
          "output_type": "stream",
          "name": "stdout",
          "text": [
            "['a, b, c , d, e, f, g']\n",
            "['a, b, c , d, e, f, g']\n",
            "['a, b, c , d, e, f, g']\n"
          ]
        }
      ]
    },
    {
      "cell_type": "code",
      "source": [
        "vocales= 'aeiou'\n",
        "for letra in 'Epigmenio Gonzales':\n",
        "  if letra in vocales:\n",
        "    print(letra,)\n"
      ],
      "metadata": {
        "colab": {
          "base_uri": "https://localhost:8080/"
        },
        "id": "O20_MsEhDQBx",
        "outputId": "0814a4a5-977c-4b6c-a0e1-8d0094e8411c"
      },
      "execution_count": 35,
      "outputs": [
        {
          "output_type": "stream",
          "name": "stdout",
          "text": [
            "i\n",
            "e\n",
            "i\n",
            "o\n",
            "o\n",
            "a\n",
            "e\n"
          ]
        }
      ]
    },
    {
      "cell_type": "code",
      "source": [
        "mensaje= \"Hola como estas tu?\"\n",
        "mensaje.split()"
      ],
      "metadata": {
        "colab": {
          "base_uri": "https://localhost:8080/"
        },
        "id": "nv6TqQY4HNYx",
        "outputId": "e69bcecb-f25f-4e47-ad80-c6922aac870c"
      },
      "execution_count": 36,
      "outputs": [
        {
          "output_type": "execute_result",
          "data": {
            "text/plain": [
              "['Hola', 'como', 'estas', 'tu?']"
            ]
          },
          "metadata": {},
          "execution_count": 36
        }
      ]
    },
    {
      "cell_type": "code",
      "source": [
        "mensaje= \"Hola como estas tu?\"\n",
        "mensaje.split()\n",
        "for palabra in mensaje.split():\n",
        "  print (palabra)"
      ],
      "metadata": {
        "colab": {
          "base_uri": "https://localhost:8080/"
        },
        "id": "9ZtTNwITHZi8",
        "outputId": "124da204-dd83-4e39-cfd7-0687729e4818"
      },
      "execution_count": 37,
      "outputs": [
        {
          "output_type": "stream",
          "name": "stdout",
          "text": [
            "Hola\n",
            "como\n",
            "estas\n",
            "tu?\n"
          ]
        }
      ]
    },
    {
      "cell_type": "code",
      "source": [
        "preguntas = ['nombre', 'objetivo', 'sistema operativo']\n",
        "respuestas=['Leonardo', 'aprender python y plone', 'linux']\n",
        "for pregunta, respuesta in zip(preguntas, respuestas):\n",
        "  print('¿Cual es tu {0}?, la respuesta es: {1}.'.format(pregunta, respuesta))"
      ],
      "metadata": {
        "colab": {
          "base_uri": "https://localhost:8080/"
        },
        "id": "n-A9BsJeIhr-",
        "outputId": "549d5fe4-39df-49fe-b337-78f1bbcd5248"
      },
      "execution_count": 40,
      "outputs": [
        {
          "output_type": "stream",
          "name": "stdout",
          "text": [
            "¿Cual es tu nombre?, la respuesta es: Leonardo.\n",
            "¿Cual es tu objetivo?, la respuesta es: aprender python y plone.\n",
            "¿Cual es tu sistema operativo?, la respuesta es: linux.\n"
          ]
        }
      ]
    }
  ]
}